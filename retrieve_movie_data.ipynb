{
 "cells": [
  {
   "cell_type": "markdown",
   "metadata": {},
   "source": [
    "### Import Required Libraries and Set Up Environment Variables"
   ]
  },
  {
   "cell_type": "code",
   "execution_count": 1,
   "metadata": {},
   "outputs": [],
   "source": [
    "# Dependencies\n",
    "import requests\n",
    "import time\n",
    "from dotenv import load_dotenv\n",
    "import os\n",
    "import pandas as pd\n",
    "import json"
   ]
  },
  {
   "cell_type": "code",
   "execution_count": 3,
   "metadata": {},
   "outputs": [
    {
     "name": "stdout",
     "output_type": "stream",
     "text": [
      "v5ebr6Go3BgR50B5\n",
      "799a9cdb6f7b0721ec914884aad791d1\n"
     ]
    }
   ],
   "source": [
    "# Set environment variables from the .env in the local environment\n",
    "load_dotenv()\n",
    "\n",
    "nyt_api_key = os.getenv(\"NYT_API_KEY\")\n",
    "tmdb_api_key = os.getenv(\"TMDB_API_KEY\")\n",
    "print(nyt_api_key)\n",
    "print(tmdb_api_key)"
   ]
  },
  {
   "cell_type": "markdown",
   "metadata": {},
   "source": [
    "### Access the New York Times API"
   ]
  },
  {
   "cell_type": "code",
   "execution_count": 7,
   "metadata": {},
   "outputs": [
    {
     "name": "stdout",
     "output_type": "stream",
     "text": [
      "https://api.nytimes.com/svc/search/v2/articlesearch.json?api-key=v5ebr6Go3BgR50B5&begin_date=20130101&end_date=20230531&fq=section_name:\"Movies\" AND type_of_material:\"Review\" AND headline:\"love\"&sort=newest&fl=headline,web_url,snippet,source,keywords,pub_date,byline,word_count\n"
     ]
    },
    {
     "data": {
      "text/plain": [
       "<Response [401]>"
      ]
     },
     "execution_count": 7,
     "metadata": {},
     "output_type": "execute_result"
    }
   ],
   "source": [
    "# Set the base URL\n",
    "url = \"https://api.nytimes.com/svc/search/v2/articlesearch.json?\"\n",
    "\n",
    "# Filter for movie reviews with \"love\" in the headline\n",
    "# section_name should be \"Movies\"\n",
    "# type_of_material should be \"Review\"\n",
    "filter_query = 'section_name:\"Movies\" AND type_of_material:\"Review\" AND headline:\"love\"'\n",
    "\n",
    "# Use a sort filter, sort by newest\n",
    "sort = \"newest\"\n",
    "\n",
    "# Select the following fields to return:\n",
    "# headline, web_url, snippet, source, keywords, pub_date, byline, word_count\n",
    "field_list = \"headline,web_url,snippet,source,keywords,pub_date,byline,word_count\"\n",
    "\n",
    "# Search for reviews published between a begin and end date\n",
    "begin_date = \"20130101\"\n",
    "end_date = \"20230531\"\n",
    "\n",
    "# Build URL\n",
    "\n",
    "query_url = (\n",
    "    f\"{url}api-key={nyt_api_key}&begin_date={begin_date}&end_date={end_date}\"\n",
    "    + f'&fq={filter_query}&sort={sort}&fl={field_list}'\n",
    ")\n",
    "\n",
    "print(query_url)\n",
    "res = requests.get(query_url)\n",
    "res"
   ]
  },
  {
   "cell_type": "code",
   "execution_count": null,
   "metadata": {},
   "outputs": [],
   "source": [
    "# Create an empty list to store the reviews\n",
    "reviews_list = []\n",
    "\n",
    "# loop through pages 0-19\n",
    "for pages in range(0, 20):\n",
    "\n",
    "    # create query with a page number\n",
    "    # API results show 10 articles at a time\n",
    "    query_url = f\"{query_url}&page={pages}\"\n",
    "\n",
    "    # Make a \"GET\" request and retrieve the JSON\n",
    "    reviews = requests.get(query_url).json()\n",
    "    #print(reviews)\n",
    "    # Add a twelve second interval between queries to stay within API query limits\n",
    "    time.sleep(12)\n",
    "    \n",
    "    # Try and save the reviews to the reviews_list\n",
    "    try:\n",
    "        # loop through the reviews[\"response\"][\"docs\"] and append each review to the list\n",
    "        for review in reviews[\"response\"][\"docs\"]:\n",
    "            reviews_list.append(review)\n",
    "        # Print the page that was just retrieved\n",
    "        print(f\"Checked page {pages}\")\n",
    "\n",
    "        # Print the page number that had no results then break from the loop\n",
    "    except:\n",
    "        print(f\"No articles on page {pages} found\")"
   ]
  },
  {
   "cell_type": "code",
   "execution_count": null,
   "metadata": {},
   "outputs": [],
   "source": [
    "# Preview the first 5 results in JSON format\n",
    "# Use json.dumps with argument indent=4 to format data\n",
    "print(json.dumps(reviews[0:5], indent=4))"
   ]
  },
  {
   "cell_type": "code",
   "execution_count": null,
   "metadata": {},
   "outputs": [],
   "source": [
    "# Convert reviews_list to a Pandas DataFrame using json_normalize()\n",
    "reviews_df = pd.json_normalize(reviews_list)\n",
    "reviews_df"
   ]
  },
  {
   "cell_type": "code",
   "execution_count": null,
   "metadata": {},
   "outputs": [],
   "source": [
    "# Extract the title from the \"headline.main\" column and\n",
    "# save it to a new column \"title\"\n",
    "# Title is between unicode characters \\u2018 and \\u2019. \n",
    "# End string should include \" Review\" to avoid cutting title early\n",
    "reviews_df[\"title\"] = reviews_df[\"headline.main\"].apply(lambda st: st[st.find(\"\\u2018\")+1:st.find(\"\\u2019 Review\")])\n",
    "reviews_df"
   ]
  },
  {
   "cell_type": "code",
   "execution_count": null,
   "metadata": {},
   "outputs": [],
   "source": [
    "# Extract 'name' and 'value' from items in \"keywords\" column\n",
    "def extract_keywords(keyword_list):\n",
    "    extracted_keywords = \"\"\n",
    "    for item in keyword_list:\n",
    "        # Extract 'name' and 'value'\n",
    "        keyword = f\"{item['name']}: {item['value']};\" \n",
    "        # Append the keyword item to the extracted_keywords list\n",
    "        extracted_keywords += keyword\n",
    "    return extracted_keywords\n",
    "\n",
    "# Fix the \"keywords\" column by converting cells from a list to a string\n",
    "reviews_df[\"keywords\"] = reviews_df[\"keywords\"].apply(extract_keywords)\n",
    "reviews_df"
   ]
  },
  {
   "cell_type": "code",
   "execution_count": null,
   "metadata": {
    "scrolled": true
   },
   "outputs": [],
   "source": [
    "# Create a list from the \"title\" column using to_list()\n",
    "# These titles will be used in the query for The Movie Database\n",
    "titles = reviews_df[\"title\"].to_list()\n",
    "titles"
   ]
  },
  {
   "cell_type": "markdown",
   "metadata": {},
   "source": [
    "### Access The Movie Database API"
   ]
  },
  {
   "cell_type": "code",
   "execution_count": null,
   "metadata": {},
   "outputs": [],
   "source": [
    "# Prepare The Movie Database query\n",
    "url = \"https://api.themoviedb.org/3/search/movie?query=\"\n",
    "tmdb_key_string = \"&api_key=\" + tmdb_api_key"
   ]
  },
  {
   "cell_type": "code",
   "execution_count": null,
   "metadata": {},
   "outputs": [],
   "source": [
    "# Create an empty list to store the results\n",
    "tmdb_movies_list = []\n",
    "\n",
    "# Create a request counter to sleep the requests after a multiple\n",
    "# of 50 requests\n",
    "request_counter = 1\n",
    "\n",
    "# Loop through the titles \n",
    "for title in titles:\n",
    "\n",
    "    # Check if we need to sleep before making a request\n",
    "    if request_counter % 50 ==0:\n",
    "      print(\"The application is sleeping\")\n",
    "      time.sleep(1)  \n",
    "\n",
    "    # Add 1 to the request counter\n",
    "    request_counter += 1\n",
    "    \n",
    "    # Perform a \"GET\" request for The Movie Database\n",
    "    #tmdb_query_url = f\"{url}{title}{tmdb_key_string}\"\n",
    "    tmdb_response = requests.get(url + title + tmdb_key_string).json()\n",
    "\n",
    "    # Include a try clause to search for the full movie details.\n",
    "    # Use the except clause to print out a statement if a movie\n",
    "    # is not found.\n",
    "    try:\n",
    "        # Get movie id\n",
    "        movie_id = tmdb_response[\"results\"][0][\"id\"]\n",
    "        \n",
    "        # Make a request for a the full movie details\n",
    "        details_query_url = f\"{url}{movie_id}{tmdb_key_string}\"\n",
    "\n",
    "        # Execute \"GET\" request with url\n",
    "        movie_details = requests.get(details_query_url).json()\n",
    "        #movie_details = details_response.json()\n",
    "        \n",
    "        # Extract the genre names into a list\n",
    "        genres = []\n",
    "        for genre in movie_details['genre']:\n",
    "           genres.append(genre[\"name\"])\n",
    "\n",
    "        # Extract the spoken_languages' English name into a list\n",
    "        spoken_languages = []\n",
    "        for language in movie_details[\"spoken_languages\"]:\n",
    "           spoken_languages.append(language[\"english_name\"])\n",
    "\n",
    "        # Extract the production_countries' name into a list\n",
    "        production_countries = []\n",
    "        for country in movie_details[\"production_countries\"]:\n",
    "           production_countries.append(country[\"name\"])\n",
    "\n",
    "        # Add the relevant data to a dictionary and\n",
    "        # append it to the tmdb_movies_list list\n",
    "        tmdb_movies_list.append({\"title\": movie_details[\"title\"],\n",
    "                                 \"original_title\": movie_details[\"original_title\"],\n",
    "                                 \"budget\": movie_details[\"budget\"],\n",
    "                                 \"genre\" : genres,\n",
    "                                 \"language\": movie_details[\"original_language\"],\n",
    "                                 \"spoken_languages\" : spoken_languages,\n",
    "                                 \"homepage\": movie_details[\"homepage\"],\n",
    "                                 \"overview\": movie_details[\"overview\"],\n",
    "                                 \"popularity\": movie_details[\"popularity\"],\n",
    "                                 \"runtime\": movie_details[\"runtime\"],\n",
    "                                 \"revenue\": movie_details[\"revenue\"],\n",
    "                                 \"release_date\": movie_details[\"release_date\"],\n",
    "                                 \"vote_average\": movie_details[\"vote_average\"],\n",
    "                                 \"vote_count\": movie_details[\"vote_count\"],\n",
    "                                 \"production_countries\" : production_countries\n",
    "            })\n",
    "    \n",
    "        # Print out the title that was found\n",
    "        print(f\"'{title}' was found\")\n",
    "    except:\n",
    "        print(f\"'{title}' is not found\")\n",
    "\n"
   ]
  },
  {
   "cell_type": "code",
   "execution_count": null,
   "metadata": {},
   "outputs": [],
   "source": [
    "# Preview the first 5 results in JSON format\n",
    "# Use json.dumps with argument indent=4 to format data\n",
    "\n",
    "print(json.dumps(tmdb_movies_list[0:5], indent=4))"
   ]
  },
  {
   "cell_type": "code",
   "execution_count": null,
   "metadata": {},
   "outputs": [],
   "source": [
    "# Convert the results to a DataFrame\n",
    "tmdb_df = pd.DataFrame(tmdb_movies_list)\n",
    "tmdb_df"
   ]
  },
  {
   "cell_type": "markdown",
   "metadata": {},
   "source": [
    "### Merge and Clean the Data for Export"
   ]
  },
  {
   "cell_type": "code",
   "execution_count": null,
   "metadata": {
    "scrolled": true
   },
   "outputs": [],
   "source": [
    "# Merge the New York Times reviews and TMDB DataFrames on title\n",
    "merged_reviews_tmdb_df = pd.merge(tmdb_df, reviews_df, how='inner', on='title')\n",
    "merged_reviews_tmdb_df"
   ]
  },
  {
   "cell_type": "code",
   "execution_count": null,
   "metadata": {},
   "outputs": [],
   "source": [
    "# Remove list brackets and quotation marks on the columns containing lists\n",
    "# Create a list of the columns that need fixing\n",
    "columns_to_fix = [\"genres\", \"spoken_languages\", \"production_countries\"]\n",
    "\n",
    "# Create a list of characters to remove\n",
    "characters_to_remove = [\"[\",\"]\", \"'\"]\n",
    "\n",
    "# Loop through the list of columns to fix\n",
    "for column in columns_to_fix:\n",
    "    # Convert the column to type 'str'\n",
    "    merged_reviews_tmdb_df[column] = merged_reviews_tmdb_df[column].astype(\"str\")\n",
    "\n",
    "    # Loop through characters to remove\n",
    "    for character in characters_to_remove:\n",
    "        merged_reviews_tmdb_df[column] = merged_reviews_tmdb_df[column].str.replace(character, \"\",regex=False)\n",
    "\n",
    "# Display the fixed DataFrame\n",
    "merged_reviews_tmdb_df"
   ]
  },
  {
   "cell_type": "code",
   "execution_count": null,
   "metadata": {},
   "outputs": [],
   "source": [
    "# Drop \"byline.person\" column\n",
    "drop_column_df = merged_reviews_tmdb_df.drop(columns=\"byline.person\")\n",
    "drop_column_df"
   ]
  },
  {
   "cell_type": "code",
   "execution_count": null,
   "metadata": {},
   "outputs": [],
   "source": [
    "# Delete duplicate rows and reset index\n",
    "no_duplicates_df = drop_column_df.drop_duplicates().reset_index(drop=True)\n",
    "no_duplicates_df"
   ]
  },
  {
   "cell_type": "code",
   "execution_count": null,
   "metadata": {},
   "outputs": [],
   "source": [
    "# Export data to CSV without the index\n",
    "no_duplicates_df.to_csv('collected_data.csv', index=False)"
   ]
  },
  {
   "cell_type": "code",
   "execution_count": null,
   "metadata": {},
   "outputs": [],
   "source": []
  }
 ],
 "metadata": {
  "kernelspec": {
   "display_name": "Python 3 (ipykernel)",
   "language": "python",
   "name": "python3"
  },
  "language_info": {
   "codemirror_mode": {
    "name": "ipython",
    "version": 3
   },
   "file_extension": ".py",
   "mimetype": "text/x-python",
   "name": "python",
   "nbconvert_exporter": "python",
   "pygments_lexer": "ipython3",
   "version": "3.10.13"
  },
  "varInspector": {
   "cols": {
    "lenName": 16,
    "lenType": 16,
    "lenVar": 40
   },
   "kernels_config": {
    "python": {
     "delete_cmd_postfix": "",
     "delete_cmd_prefix": "del ",
     "library": "var_list.py",
     "varRefreshCmd": "print(var_dic_list())"
    },
    "r": {
     "delete_cmd_postfix": ") ",
     "delete_cmd_prefix": "rm(",
     "library": "var_list.r",
     "varRefreshCmd": "cat(var_dic_list()) "
    }
   },
   "types_to_exclude": [
    "module",
    "function",
    "builtin_function_or_method",
    "instance",
    "_Feature"
   ],
   "window_display": false
  }
 },
 "nbformat": 4,
 "nbformat_minor": 2
}
